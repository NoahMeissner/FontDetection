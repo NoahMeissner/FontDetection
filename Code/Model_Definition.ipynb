{
 "cells": [
  {
   "cell_type": "markdown",
   "id": "9e933d9c-2b85-4a25-b1b1-463985ef3b7d",
   "metadata": {},
   "source": [
    "## Model Training"
   ]
  },
  {
   "cell_type": "markdown",
   "id": "62dfc425-0514-42b4-9037-0c86d2fd9d5c",
   "metadata": {},
   "source": [
    "This Jupyter Notebook presents the training of a Convolutional Neural Network (CNN) model designed to classify images of letters based on their respective fonts. The dataset utilized for this task is generated from the accompanying script, *Dataset_Generation.py*.\n",
    "\n",
    "The primary objective of this Notebook is to develop a robust model capable of accurately identifying and classifying various font styles represented in the input images.\n",
    "Following Fonts were used:\n",
    "\n",
    "**Non-Serif**\n",
    "- Arial\n",
    "- Calibri\n",
    "- CenturyGothic\n",
    "- Futura\n",
    "- GillSans\n",
    "- Helvetica\n",
    "- Motserrat\n",
    "- OpenSans\n",
    "- RobotBlack\n",
    "- Verdana\n",
    "  \n",
    "**Sans**\n",
    "- Baskerville\n",
    "- Antiqua\n",
    "- Courier\n",
    "- Didot\n",
    "- Garamond\n",
    "- Georgia\n",
    "- Merriweather\n",
    "- Palatino\n",
    "- Rockwell\n",
    "- Times New Roman\n",
    "\n",
    "The notebook outlines the methodology for preprocessing the data, constructing the CNN architecture, and training the model on the generated dataset.\n",
    "At the conclusion of the training process, the model undergoes a comprehensive evaluation to assess its performance and classification accuracy. "
   ]
  },
  {
   "cell_type": "code",
   "execution_count": 17,
   "id": "0f5cb76e-1fa4-4c69-880c-fb7ac447bec2",
   "metadata": {},
   "outputs": [],
   "source": [
    "#!pip install opencv-python"
   ]
  },
  {
   "cell_type": "code",
   "execution_count": 18,
   "id": "58a3b31e-45bf-4548-8e86-768ad627bc91",
   "metadata": {},
   "outputs": [],
   "source": [
    "import numpy as np\n",
    "import cv2\n",
    "import os\n",
    "from sklearn.model_selection import train_test_split\n",
    "from tensorflow import keras\n",
    "import matplotlib.pyplot as plt\n",
    "import seaborn as sns\n",
    "import json\n",
    "from keras import layers\n",
    "from sklearn.metrics import classification_report, confusion_matrix"
   ]
  },
  {
   "cell_type": "code",
   "execution_count": 19,
   "id": "41bb54c0-849d-4ed9-a709-338feff6c3ec",
   "metadata": {},
   "outputs": [],
   "source": [
    "def show_image(image):\n",
    "    plt.imshow(image, cmap='gray')\n",
    "    plt.axis('off')\n",
    "    plt.show()"
   ]
  },
  {
   "cell_type": "markdown",
   "id": "64e8b7fe-6ce5-411a-9af1-5e1709d3355a",
   "metadata": {},
   "source": [
    "## Load Dataset"
   ]
  },
  {
   "cell_type": "code",
   "execution_count": 23,
   "id": "c1588027-ea97-4ca3-b190-44530df2f8c5",
   "metadata": {},
   "outputs": [],
   "source": [
    "def load_font_data(base_path='Dataset/'):\n",
    "    images = []\n",
    "    labels = []\n",
    "    font_map = {}\n",
    "    current_label = 0\n",
    "    \n",
    "    for font in sorted(os.listdir(base_path)):\n",
    "        if font != \".DS_Store\" and font != \"Letter\":\n",
    "            font_path = os.path.join(base_path, font)\n",
    "            if os.path.isdir(font_path):\n",
    "                if font not in font_map:\n",
    "                    font_map[font] = current_label\n",
    "                    current_label += 1\n",
    "                for letter in 'abcdefghijklmnopqrstuvwxyz':\n",
    "                    letter_path = os.path.join(font_path, letter)\n",
    "                    if os.path.isdir(letter_path):\n",
    "                        for img_file in os.listdir(letter_path):\n",
    "                            img_path = os.path.join(letter_path, img_file)\n",
    "                            if os.path.exists(img_path):\n",
    "                                img = cv2.imread(img_path, cv2.IMREAD_GRAYSCALE)\n",
    "                                if img is None:\n",
    "                                    print(f\"Failed to load image: {img_path}\")\n",
    "                                    continue\n",
    "                                try:\n",
    "                                    img = cv2.resize(img, (28, 28))\n",
    "                                    images.append(img)\n",
    "                                    labels.append(font_map[font])\n",
    "                                except cv2.error as e:\n",
    "                                    print(f\"Error resizing image {img_path}: {e}\")\n",
    "                            else:\n",
    "                                print(f\"File not found: {img_path}\")\n",
    "\n",
    "    \n",
    "    return np.array(images), np.array(labels), font_map"
   ]
  },
  {
   "cell_type": "code",
   "execution_count": null,
   "id": "3665696c-de95-4ba2-a426-611a7f9f6e26",
   "metadata": {},
   "outputs": [
    {
     "name": "stdout",
     "output_type": "stream",
     "text": [
      "Failed to load image: Dataset/ARIAL/a/.ipynb_checkpoints\n",
      "Failed to load image: Dataset/ARIAL/i/.ipynb_checkpoints\n",
      "Failed to load image: Dataset/ARIAL/p/.ipynb_checkpoints\n",
      "Failed to load image: Dataset/Didot/e/.ipynb_checkpoints\n",
      "Failed to load image: Dataset/Times New Roman/a/.ipynb_checkpoints\n"
     ]
    }
   ],
   "source": [
    "X, y, font_map = load_font_data()\n",
    "print(\"Max label value:\", np.max(y))\n",
    "print(\"Unique labels:\", np.unique(y))\n",
    "print(\"Font map:\", font_map)\n",
    "\n",
    "num_classes = len(font_map)\n",
    "\n",
    "X_train, X_test, y_train, y_test = train_test_split(X, y, test_size=0.2, random_state=42, shuffle=True)\n",
    "\n",
    "y_train = keras.utils.to_categorical(y_train, num_classes)\n",
    "y_test = keras.utils.to_categorical(y_test, num_classes)\n",
    "\n",
    "X_train = X_train.astype('float32') / 255.0\n",
    "X_test = X_test.astype('float32') / 255.0\n",
    "\n",
    "X_train = X_train.reshape(X_train.shape[0], 28, 28, 1)\n",
    "X_test = X_test.reshape(X_test.shape[0], 28, 28, 1)\n",
    "\n",
    "print(\"X_train shape:\", X_train.shape)\n",
    "print(\"y_train shape:\", y_train.shape)\n",
    "print(\"X_test shape:\", X_test.shape)\n",
    "print(\"y_test shape:\", y_test.shape)"
   ]
  },
  {
   "cell_type": "code",
   "execution_count": null,
   "id": "9ad2d26f-811f-4dca-b37c-bcc7af65325a",
   "metadata": {},
   "outputs": [],
   "source": [
    "with open('Model/font_map.json', 'w') as json_file:\n",
    "    json.dump(font_map, json_file, indent=4)\n",
    "print(f\"Font map saved as font_map.json\")"
   ]
  },
  {
   "cell_type": "markdown",
   "id": "304dad6d-1c2d-40ff-96aa-7505fe1251a9",
   "metadata": {},
   "source": [
    "## Define Model"
   ]
  },
  {
   "cell_type": "code",
   "execution_count": 11,
   "id": "d9633407-b6b1-46f8-a54c-4ccfddcc99f2",
   "metadata": {},
   "outputs": [
    {
     "name": "stdout",
     "output_type": "stream",
     "text": [
      "Model: \"sequential\"\n",
      "_________________________________________________________________\n",
      " Layer (type)                Output Shape              Param #   \n",
      "=================================================================\n",
      " conv2d (Conv2D)             (None, 26, 26, 32)        320       \n",
      "                                                                 \n",
      " batch_normalization (BatchN  (None, 26, 26, 32)       128       \n",
      " ormalization)                                                   \n",
      "                                                                 \n",
      " conv2d_1 (Conv2D)           (None, 24, 24, 32)        9248      \n",
      "                                                                 \n",
      " max_pooling2d (MaxPooling2D  (None, 12, 12, 32)       0         \n",
      " )                                                               \n",
      "                                                                 \n",
      " dropout (Dropout)           (None, 12, 12, 32)        0         \n",
      "                                                                 \n",
      " conv2d_2 (Conv2D)           (None, 10, 10, 64)        18496     \n",
      "                                                                 \n",
      " batch_normalization_1 (Batc  (None, 10, 10, 64)       256       \n",
      " hNormalization)                                                 \n",
      "                                                                 \n",
      " conv2d_3 (Conv2D)           (None, 8, 8, 64)          36928     \n",
      "                                                                 \n",
      " max_pooling2d_1 (MaxPooling  (None, 4, 4, 64)         0         \n",
      " 2D)                                                             \n",
      "                                                                 \n",
      " dropout_1 (Dropout)         (None, 4, 4, 64)          0         \n",
      "                                                                 \n",
      " conv2d_4 (Conv2D)           (None, 2, 2, 128)         73856     \n",
      "                                                                 \n",
      " batch_normalization_2 (Batc  (None, 2, 2, 128)        512       \n",
      " hNormalization)                                                 \n",
      "                                                                 \n",
      " max_pooling2d_2 (MaxPooling  (None, 1, 1, 128)        0         \n",
      " 2D)                                                             \n",
      "                                                                 \n",
      " dropout_2 (Dropout)         (None, 1, 1, 128)         0         \n",
      "                                                                 \n",
      " flatten (Flatten)           (None, 128)               0         \n",
      "                                                                 \n",
      " dense (Dense)               (None, 128)               16512     \n",
      "                                                                 \n",
      " batch_normalization_3 (Batc  (None, 128)              512       \n",
      " hNormalization)                                                 \n",
      "                                                                 \n",
      " dropout_3 (Dropout)         (None, 128)               0         \n",
      "                                                                 \n",
      " dense_1 (Dense)             (None, 20)                2580      \n",
      "                                                                 \n",
      "=================================================================\n",
      "Total params: 159,348\n",
      "Trainable params: 158,644\n",
      "Non-trainable params: 704\n",
      "_________________________________________________________________\n"
     ]
    },
    {
     "name": "stderr",
     "output_type": "stream",
     "text": [
      "2024-10-03 19:56:08.053084: I tensorflow/stream_executor/cuda/cuda_gpu_executor.cc:975] successful NUMA node read from SysFS had negative value (-1), but there must be at least one NUMA node, so returning NUMA node zero\n",
      "2024-10-03 19:56:08.070720: I tensorflow/stream_executor/cuda/cuda_gpu_executor.cc:975] successful NUMA node read from SysFS had negative value (-1), but there must be at least one NUMA node, so returning NUMA node zero\n",
      "2024-10-03 19:56:08.071229: I tensorflow/stream_executor/cuda/cuda_gpu_executor.cc:975] successful NUMA node read from SysFS had negative value (-1), but there must be at least one NUMA node, so returning NUMA node zero\n",
      "2024-10-03 19:56:08.072179: I tensorflow/core/platform/cpu_feature_guard.cc:193] This TensorFlow binary is optimized with oneAPI Deep Neural Network Library (oneDNN) to use the following CPU instructions in performance-critical operations:  AVX2 FMA\n",
      "To enable them in other operations, rebuild TensorFlow with the appropriate compiler flags.\n",
      "2024-10-03 19:56:08.074761: I tensorflow/stream_executor/cuda/cuda_gpu_executor.cc:975] successful NUMA node read from SysFS had negative value (-1), but there must be at least one NUMA node, so returning NUMA node zero\n",
      "2024-10-03 19:56:08.075355: I tensorflow/stream_executor/cuda/cuda_gpu_executor.cc:975] successful NUMA node read from SysFS had negative value (-1), but there must be at least one NUMA node, so returning NUMA node zero\n",
      "2024-10-03 19:56:08.075904: I tensorflow/stream_executor/cuda/cuda_gpu_executor.cc:975] successful NUMA node read from SysFS had negative value (-1), but there must be at least one NUMA node, so returning NUMA node zero\n",
      "2024-10-03 19:56:08.466324: I tensorflow/stream_executor/cuda/cuda_gpu_executor.cc:975] successful NUMA node read from SysFS had negative value (-1), but there must be at least one NUMA node, so returning NUMA node zero\n",
      "2024-10-03 19:56:08.466754: I tensorflow/stream_executor/cuda/cuda_gpu_executor.cc:975] successful NUMA node read from SysFS had negative value (-1), but there must be at least one NUMA node, so returning NUMA node zero\n",
      "2024-10-03 19:56:08.467139: I tensorflow/stream_executor/cuda/cuda_gpu_executor.cc:975] successful NUMA node read from SysFS had negative value (-1), but there must be at least one NUMA node, so returning NUMA node zero\n",
      "2024-10-03 19:56:08.467583: I tensorflow/core/common_runtime/gpu/gpu_device.cc:1532] Created device /job:localhost/replica:0/task:0/device:GPU:0 with 9642 MB memory:  -> device: 0, name: NVIDIA GeForce RTX 2080 Ti, pci bus id: 0000:21:00.0, compute capability: 7.5\n"
     ]
    }
   ],
   "source": [
    "model = keras.Sequential(\n",
    "    [\n",
    "    \n",
    "        keras.Input(shape=(28, 28, 1)),\n",
    "        layers.Conv2D(32, kernel_size=(3, 3), activation=\"relu\"),\n",
    "        layers.BatchNormalization(),\n",
    "        layers.Conv2D(32, kernel_size=(3, 3), activation=\"relu\"),\n",
    "        layers.MaxPooling2D(pool_size=(2, 2)),\n",
    "        layers.Dropout(0.25),\n",
    "\n",
    "        layers.Conv2D(64, kernel_size=(3, 3), activation=\"relu\"),\n",
    "        layers.BatchNormalization(),\n",
    "        layers.Conv2D(64, kernel_size=(3, 3), activation=\"relu\"),\n",
    "        layers.MaxPooling2D(pool_size=(2, 2)),\n",
    "        layers.Dropout(0.25),\n",
    "\n",
    "        layers.Conv2D(128, kernel_size=(3, 3), activation=\"relu\"),\n",
    "        layers.BatchNormalization(),\n",
    "        layers.MaxPooling2D(pool_size=(2, 2)),\n",
    "        layers.Dropout(0.25),\n",
    "\n",
    "        layers.Flatten(),\n",
    "        layers.Dense(128, activation=\"relu\"),\n",
    "        layers.BatchNormalization(),\n",
    "        layers.Dropout(0.5),\n",
    "\n",
    "        layers.Dense(num_classes, activation=\"softmax\")\n",
    "    ]\n",
    ")\n",
    "\n",
    "model.summary()\n",
    "\n",
    "model.compile(optimizer=\"adam\", loss=\"categorical_crossentropy\", metrics=[\"accuracy\"])"
   ]
  },
  {
   "cell_type": "markdown",
   "id": "d26beff1-1382-4536-961a-db4dedadc049",
   "metadata": {},
   "source": [
    "## Train Model"
   ]
  },
  {
   "cell_type": "code",
   "execution_count": 12,
   "id": "c46f29eb-9f6a-441e-bca0-671a9acd5b28",
   "metadata": {},
   "outputs": [
    {
     "name": "stdout",
     "output_type": "stream",
     "text": [
      "Epoch 1/50\n"
     ]
    },
    {
     "name": "stderr",
     "output_type": "stream",
     "text": [
      "2024-10-03 19:56:11.326904: I tensorflow/stream_executor/cuda/cuda_dnn.cc:384] Loaded cuDNN version 8101\n"
     ]
    },
    {
     "name": "stdout",
     "output_type": "stream",
     "text": [
      "234/234 [==============================] - 4s 6ms/step - loss: 2.5568 - accuracy: 0.2482 - val_loss: 6.9492 - val_accuracy: 0.0535\n",
      "Epoch 2/50\n",
      "234/234 [==============================] - 1s 5ms/step - loss: 1.6746 - accuracy: 0.4373 - val_loss: 7.2574 - val_accuracy: 0.0856\n",
      "Epoch 3/50\n",
      "234/234 [==============================] - 1s 5ms/step - loss: 1.3777 - accuracy: 0.5377 - val_loss: 2.1223 - val_accuracy: 0.4688\n",
      "Epoch 4/50\n",
      "234/234 [==============================] - 1s 5ms/step - loss: 1.1661 - accuracy: 0.6037 - val_loss: 1.0347 - val_accuracy: 0.6605\n",
      "Epoch 5/50\n",
      "234/234 [==============================] - 1s 5ms/step - loss: 1.0329 - accuracy: 0.6503 - val_loss: 1.3876 - val_accuracy: 0.5956\n",
      "Epoch 6/50\n",
      "234/234 [==============================] - 1s 5ms/step - loss: 0.9200 - accuracy: 0.6839 - val_loss: 0.8089 - val_accuracy: 0.7320\n",
      "Epoch 7/50\n",
      "234/234 [==============================] - 1s 5ms/step - loss: 0.8499 - accuracy: 0.7037 - val_loss: 4.2459 - val_accuracy: 0.2503\n",
      "Epoch 8/50\n",
      "234/234 [==============================] - 1s 5ms/step - loss: 0.7878 - accuracy: 0.7286 - val_loss: 1.5763 - val_accuracy: 0.5165\n",
      "Epoch 9/50\n",
      "234/234 [==============================] - 1s 5ms/step - loss: 0.7345 - accuracy: 0.7417 - val_loss: 1.0605 - val_accuracy: 0.6689\n",
      "Epoch 10/50\n",
      "234/234 [==============================] - 1s 5ms/step - loss: 0.6960 - accuracy: 0.7540 - val_loss: 1.0296 - val_accuracy: 0.6665\n",
      "Epoch 11/50\n",
      "234/234 [==============================] - 1s 5ms/step - loss: 0.6714 - accuracy: 0.7635 - val_loss: 1.4776 - val_accuracy: 0.5778\n",
      "Epoch 12/50\n",
      "234/234 [==============================] - 1s 5ms/step - loss: 0.6432 - accuracy: 0.7714 - val_loss: 0.7810 - val_accuracy: 0.7269\n",
      "Epoch 13/50\n",
      "234/234 [==============================] - 1s 5ms/step - loss: 0.6153 - accuracy: 0.7819 - val_loss: 0.8965 - val_accuracy: 0.6947\n",
      "Epoch 14/50\n",
      "234/234 [==============================] - 1s 5ms/step - loss: 0.5978 - accuracy: 0.7876 - val_loss: 0.5675 - val_accuracy: 0.7900\n",
      "Epoch 15/50\n",
      "234/234 [==============================] - 1s 5ms/step - loss: 0.5661 - accuracy: 0.7970 - val_loss: 1.3080 - val_accuracy: 0.6187\n",
      "Epoch 16/50\n",
      "234/234 [==============================] - 1s 5ms/step - loss: 0.5593 - accuracy: 0.8005 - val_loss: 0.5273 - val_accuracy: 0.8092\n",
      "Epoch 17/50\n",
      "234/234 [==============================] - 1s 5ms/step - loss: 0.5415 - accuracy: 0.8076 - val_loss: 0.6075 - val_accuracy: 0.7909\n",
      "Epoch 18/50\n",
      "234/234 [==============================] - 1s 5ms/step - loss: 0.5289 - accuracy: 0.8110 - val_loss: 0.5073 - val_accuracy: 0.8191\n",
      "Epoch 19/50\n",
      "234/234 [==============================] - 1s 5ms/step - loss: 0.5106 - accuracy: 0.8175 - val_loss: 0.6112 - val_accuracy: 0.7849\n",
      "Epoch 20/50\n",
      "234/234 [==============================] - 1s 5ms/step - loss: 0.4993 - accuracy: 0.8213 - val_loss: 0.5352 - val_accuracy: 0.8083\n",
      "Epoch 21/50\n",
      "234/234 [==============================] - 1s 5ms/step - loss: 0.4879 - accuracy: 0.8273 - val_loss: 1.3977 - val_accuracy: 0.6457\n",
      "Epoch 22/50\n",
      "234/234 [==============================] - 1s 5ms/step - loss: 0.4845 - accuracy: 0.8283 - val_loss: 0.8262 - val_accuracy: 0.7353\n",
      "Epoch 23/50\n",
      "234/234 [==============================] - 1s 5ms/step - loss: 0.4676 - accuracy: 0.8321 - val_loss: 0.3743 - val_accuracy: 0.8594\n",
      "Epoch 24/50\n",
      "234/234 [==============================] - 1s 5ms/step - loss: 0.4533 - accuracy: 0.8360 - val_loss: 0.4200 - val_accuracy: 0.8447\n",
      "Epoch 25/50\n",
      "234/234 [==============================] - 1s 5ms/step - loss: 0.4491 - accuracy: 0.8376 - val_loss: 0.7186 - val_accuracy: 0.7680\n",
      "Epoch 26/50\n",
      "234/234 [==============================] - 1s 5ms/step - loss: 0.4395 - accuracy: 0.8424 - val_loss: 0.4353 - val_accuracy: 0.8386\n",
      "Epoch 27/50\n",
      "234/234 [==============================] - 1s 5ms/step - loss: 0.4353 - accuracy: 0.8461 - val_loss: 0.4394 - val_accuracy: 0.8401\n",
      "Epoch 28/50\n",
      "234/234 [==============================] - 1s 5ms/step - loss: 0.4295 - accuracy: 0.8468 - val_loss: 0.8640 - val_accuracy: 0.7455\n",
      "Epoch 29/50\n",
      "234/234 [==============================] - 1s 5ms/step - loss: 0.4213 - accuracy: 0.8486 - val_loss: 0.8384 - val_accuracy: 0.7458\n",
      "Epoch 30/50\n",
      "234/234 [==============================] - 1s 5ms/step - loss: 0.4094 - accuracy: 0.8530 - val_loss: 0.5528 - val_accuracy: 0.8095\n",
      "Epoch 31/50\n",
      "234/234 [==============================] - 1s 5ms/step - loss: 0.4050 - accuracy: 0.8536 - val_loss: 0.4322 - val_accuracy: 0.8386\n",
      "Epoch 32/50\n",
      "234/234 [==============================] - 1s 5ms/step - loss: 0.4012 - accuracy: 0.8549 - val_loss: 0.6822 - val_accuracy: 0.7734\n",
      "Epoch 33/50\n",
      "234/234 [==============================] - 1s 5ms/step - loss: 0.3904 - accuracy: 0.8594 - val_loss: 0.7263 - val_accuracy: 0.7701\n",
      "Epoch 34/50\n",
      "234/234 [==============================] - 1s 5ms/step - loss: 0.3897 - accuracy: 0.8611 - val_loss: 1.1342 - val_accuracy: 0.6884\n",
      "Epoch 35/50\n",
      "234/234 [==============================] - 1s 5ms/step - loss: 0.3888 - accuracy: 0.8600 - val_loss: 0.5370 - val_accuracy: 0.8161\n",
      "Epoch 36/50\n",
      "234/234 [==============================] - 1s 5ms/step - loss: 0.3776 - accuracy: 0.8632 - val_loss: 0.9970 - val_accuracy: 0.7293\n",
      "Epoch 37/50\n",
      "234/234 [==============================] - 1s 5ms/step - loss: 0.3766 - accuracy: 0.8638 - val_loss: 2.5237 - val_accuracy: 0.5328\n",
      "Epoch 38/50\n",
      "234/234 [==============================] - 1s 5ms/step - loss: 0.3695 - accuracy: 0.8677 - val_loss: 0.7708 - val_accuracy: 0.7488\n",
      "Epoch 39/50\n",
      "234/234 [==============================] - 1s 5ms/step - loss: 0.3687 - accuracy: 0.8686 - val_loss: 0.3630 - val_accuracy: 0.8639\n",
      "Epoch 40/50\n",
      "234/234 [==============================] - 1s 5ms/step - loss: 0.3590 - accuracy: 0.8692 - val_loss: 4.6307 - val_accuracy: 0.3867\n",
      "Epoch 41/50\n",
      "234/234 [==============================] - 1s 5ms/step - loss: 0.3616 - accuracy: 0.8714 - val_loss: 0.3984 - val_accuracy: 0.8531\n",
      "Epoch 42/50\n",
      "234/234 [==============================] - 1s 5ms/step - loss: 0.3454 - accuracy: 0.8746 - val_loss: 1.7277 - val_accuracy: 0.5910\n",
      "Epoch 43/50\n",
      "234/234 [==============================] - 1s 5ms/step - loss: 0.3494 - accuracy: 0.8764 - val_loss: 0.4339 - val_accuracy: 0.8410\n",
      "Epoch 44/50\n",
      "234/234 [==============================] - 1s 5ms/step - loss: 0.3521 - accuracy: 0.8739 - val_loss: 0.7686 - val_accuracy: 0.7662\n",
      "Epoch 45/50\n",
      "234/234 [==============================] - 1s 5ms/step - loss: 0.3326 - accuracy: 0.8795 - val_loss: 0.4108 - val_accuracy: 0.8522\n",
      "Epoch 46/50\n",
      "234/234 [==============================] - 1s 5ms/step - loss: 0.3429 - accuracy: 0.8785 - val_loss: 0.7665 - val_accuracy: 0.7773\n",
      "Epoch 47/50\n",
      "234/234 [==============================] - 1s 5ms/step - loss: 0.3318 - accuracy: 0.8803 - val_loss: 5.6141 - val_accuracy: 0.2876\n",
      "Epoch 48/50\n",
      "234/234 [==============================] - 1s 5ms/step - loss: 0.3354 - accuracy: 0.8788 - val_loss: 0.4224 - val_accuracy: 0.8450\n",
      "Epoch 49/50\n",
      "234/234 [==============================] - 1s 5ms/step - loss: 0.3223 - accuracy: 0.8837 - val_loss: 0.4324 - val_accuracy: 0.8489\n",
      "Epoch 50/50\n",
      "234/234 [==============================] - 1s 5ms/step - loss: 0.3304 - accuracy: 0.8821 - val_loss: 0.3781 - val_accuracy: 0.8594\n"
     ]
    }
   ],
   "source": [
    "history = model.fit(\n",
    "    X_train, y_train, \n",
    "    batch_size=128, \n",
    "    epochs=50, \n",
    "    validation_split=0.1\n",
    ")"
   ]
  },
  {
   "cell_type": "markdown",
   "id": "5a0c0694-ac6b-40b4-8f42-fed3bf832f4b",
   "metadata": {},
   "source": [
    "## Evaluation"
   ]
  },
  {
   "cell_type": "code",
   "execution_count": 13,
   "id": "a90a9c79-8580-413d-82dc-b1ee03f29596",
   "metadata": {},
   "outputs": [
    {
     "name": "stdout",
     "output_type": "stream",
     "text": [
      "Test loss: 0.3730638325214386\n",
      "Test accuracy: 0.8652644157409668\n"
     ]
    }
   ],
   "source": [
    "test_scores = model.evaluate(X_test, y_test, verbose=0)\n",
    "print(\"Test loss:\", test_scores[0])\n",
    "print(\"Test accuracy:\", test_scores[1])"
   ]
  },
  {
   "cell_type": "markdown",
   "id": "8a08576c-bb88-4891-818f-ad2a4a2886fe",
   "metadata": {},
   "source": [
    "### Confusion Matrix"
   ]
  },
  {
   "cell_type": "code",
   "execution_count": 15,
   "id": "33d413fa-f57f-4c0f-9a83-56a138fa7a7d",
   "metadata": {},
   "outputs": [
    {
     "name": "stdout",
     "output_type": "stream",
     "text": [
      "260/260 [==============================] - 0s 1ms/step\n"
     ]
    },
    {
     "data": {
      "image/png": "[encoded data removed]",
      "text/plain": [
       "<Figure size 864x720 with 2 Axes>"
      ]
     },
     "metadata": {
      "needs_background": "light"
     },
     "output_type": "display_data"
    },
    {
     "name": "stdout",
     "output_type": "stream",
     "text": [
      "                               precision    recall  f1-score   support\n",
      "\n",
      "                        ARIAL       0.84      0.85      0.85       433\n",
      "CenturyGothicPaneuropeanBlack       0.99      0.97      0.98       441\n",
      "                        Didot       0.97      0.93      0.95       422\n",
      "         FuturaCyrillicMedium       0.95      0.92      0.93       449\n",
      "                  GillSansStd       0.92      0.82      0.87       421\n",
      "                    Helvetica       0.85      0.87      0.86       395\n",
      "                 Merriweather       0.89      0.91      0.90       422\n",
      "             Montserrat-Light       0.97      0.76      0.85       386\n",
      "               OpenSans-Light       0.80      0.99      0.88       414\n",
      "                 Roboto-Black       0.96      0.98      0.97       447\n",
      "                     Rockwell       0.88      0.92      0.90       412\n",
      "              Times New Roman       0.65      0.77      0.70       394\n",
      "                      Verdana       0.94      0.83      0.88       414\n",
      "                  baskerville       0.74      0.81      0.77       384\n",
      "                  bookantiqua       0.83      0.60      0.70       386\n",
      "                     calibril       0.92      0.94      0.93       404\n",
      "                      courier       0.99      0.93      0.96       417\n",
      "                     garamond       0.91      0.87      0.89       418\n",
      "                      georgia       0.76      0.77      0.77       452\n",
      "                     palatino       0.67      0.83      0.74       409\n",
      "\n",
      "                     accuracy                           0.87      8320\n",
      "                    macro avg       0.87      0.86      0.86      8320\n",
      "                 weighted avg       0.87      0.87      0.87      8320\n",
      "\n"
     ]
    }
   ],
   "source": [
    "y_pred = model.predict(X_test)\n",
    "y_pred_classes = np.argmax(y_pred, axis=1)\n",
    "y_true = np.argmax(y_test, axis=1)\n",
    "\n",
    "cm = confusion_matrix(y_true, y_pred_classes)\n",
    "\n",
    "plt.figure(figsize=(12, 10))\n",
    "sns.heatmap(cm, annot=True, fmt='d', cmap='Blues')\n",
    "plt.title('Confusion Matrix')\n",
    "plt.ylabel('True Font')\n",
    "plt.xlabel('Predicted Font')\n",
    "\n",
    "font_labels = [k for k, v in sorted(font_map.items(), key=lambda item: item[1])]\n",
    "plt.xticks(np.arange(len(font_labels)) + 0.5, font_labels, rotation=90)\n",
    "plt.yticks(np.arange(len(font_labels)) + 0.5, font_labels, rotation=0)\n",
    "\n",
    "plt.tight_layout()\n",
    "plt.savefig('confusion_matrix.png', dpi=300, bbox_inches='tight')\n",
    "\n",
    "plt.show()\n",
    "\n",
    "print(classification_report(y_true, y_pred_classes, target_names=font_labels))"
   ]
  },
  {
   "cell_type": "markdown",
   "id": "412f8e54-ab11-4e81-922c-e9b8adbc3ef2",
   "metadata": {},
   "source": [
    "### Predict Single Letter"
   ]
  },
  {
   "cell_type": "code",
   "execution_count": 11,
   "id": "0ab8ff7f-516b-4e0e-a7de-d6cc56dcdef5",
   "metadata": {},
   "outputs": [],
   "source": [
    "def predict_font(image_path, model, font_map):\n",
    "    img = cv2.imread(image_path, cv2.IMREAD_GRAYSCALE)\n",
    "    if img is None:\n",
    "        print(f\"Failed to read image at {image_path}\")\n",
    "        return None, 0\n",
    "    img = cv2.resize(img, (28, 28))\n",
    "    img = img.astype('float32') / 255.0\n",
    "    img = np.expand_dims(img, axis=-1)\n",
    "    img = np.expand_dims(img, axis=0)\n",
    "\n",
    "    prediction = model.predict(img)\n",
    "    predicted_class = np.argmax(prediction)\n",
    "\n",
    "    inverse_font_map = {v: k for k, v in font_map.items()}\n",
    "    predicted_font = inverse_font_map[predicted_class]\n",
    "\n",
    "    confidence = np.max(prediction) * 100\n",
    "    return predicted_font, confidence"
   ]
  },
  {
   "cell_type": "code",
   "execution_count": 18,
   "id": "deecec18-8491-4f35-a185-38e24d843e98",
   "metadata": {},
   "outputs": [
    {
     "name": "stdout",
     "output_type": "stream",
     "text": [
      "1/1 [==============================] - 0s 13ms/step\n",
      "The predicted font is Didot with a confidence of 99.82%\n"
     ]
    }
   ],
   "source": [
    "image_path = \"Dataset/Didot/e/7849.png\"\n",
    "predicted_font, confidence = predict_font(image_path, model, font_map)\n",
    "print(f\"The predicted font is {predicted_font} with a confidence of {confidence:.2f}%\")"
   ]
  },
  {
   "cell_type": "code",
   "execution_count": 19,
   "id": "370ccbe9-42ae-4c3c-b032-7b9d38f73bf8",
   "metadata": {},
   "outputs": [],
   "source": [
    "model.save(\"Model/classification.keras\")"
   ]
  },
  {
   "cell_type": "code",
   "execution_count": null,
   "id": "225c9820-9108-4d6d-8b4d-deda117197b6",
   "metadata": {},
   "outputs": [],
   "source": []
  }
 ],
 "metadata": {
  "kernelspec": {
   "display_name": "Python 3 (ipykernel)",
   "language": "python",
   "name": "python3"
  },
  "language_info": {
   "codemirror_mode": {
    "name": "ipython",
    "version": 3
   },
   "file_extension": ".py",
   "mimetype": "text/x-python",
   "name": "python",
   "nbconvert_exporter": "python",
   "pygments_lexer": "ipython3",
   "version": "3.9.13"
  }
 },
 "nbformat": 4,
 "nbformat_minor": 5
}
