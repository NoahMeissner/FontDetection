{
 "cells": [
  {
   "cell_type": "markdown",
   "id": "1ee57d7d-ebae-442d-a8f0-2985b5b7a337",
   "metadata": {},
   "source": [
    "# Dataset Generation"
   ]
  },
  {
   "cell_type": "markdown",
   "id": "e7e58229-fff2-4cdd-86c4-8ff23dae3b36",
   "metadata": {},
   "source": [
    "In this Jupyter Notebook, we will generate a dataset for subsequent training purposes. The dataset will be created using 20 different fonts, each containing images of the letters **'a' to 'z'**. To enhance the diversity of the dataset, various image transformations will be applied to the original images. These transformations include:\n",
    "\n",
    "- **Gaussian Blur**: This filter will apply a Gaussian function to blur the images, helping to simulate various levels of out-of-focus scenarios.\n",
    "- **Motion Blur**: This filter will simulate the effect of camera motion, creating the appearance of movement within the image.\n",
    "- **Zoom**: This transformation will adjust the scale of the images to simulate zooming in and out, which can help the model handle variations in size.\n",
    "- **Rotation**: This filter will rotate the images at different angles to introduce orientation variability, aiding the model in recognizing letters regardless of their rotation.\n",
    "\n",
    "By applying these filters, we aim to create a more robust and comprehensive dataset that will aid in improving the performance and generalizability of the model during training."
   ]
  },
  {
   "cell_type": "code",
   "execution_count": 2,
   "id": "9191dccd-28dc-4e22-b627-058f5b679011",
   "metadata": {},
   "outputs": [
    {
     "name": "stdout",
     "output_type": "stream",
     "text": [
      "Collecting opencv-python\n",
      "  Downloading opencv_python-4.10.0.84-cp37-abi3-manylinux_2_17_x86_64.manylinux2014_x86_64.whl (62.5 MB)\n",
      "\u001b[2K     \u001b[90m━━━━━━━━━━━━━━━━━━━━━━━━━━━━━━━━━━━━━━━━\u001b[0m \u001b[32m62.5/62.5 MB\u001b[0m \u001b[31m14.3 MB/s\u001b[0m eta \u001b[36m0:00:00\u001b[0m00:01\u001b[0m00:01\u001b[0m\n",
      "\u001b[?25hRequirement already satisfied: numpy>=1.19.3 in /opt/conda/lib/python3.9/site-packages (from opencv-python) (1.22.4)\n",
      "Installing collected packages: opencv-python\n",
      "Successfully installed opencv-python-4.10.0.84\n"
     ]
    }
   ],
   "source": [
    "!pip install opencv-python"
   ]
  },
  {
   "cell_type": "code",
   "execution_count": 19,
   "id": "d35a8fa6-704a-4d19-b49c-2400772174c5",
   "metadata": {},
   "outputs": [],
   "source": [
    "import pandas as pd\n",
    "import cv2\n",
    "import numpy as np\n",
    "import random\n",
    "import matplotlib.pyplot as plt\n",
    "from PIL import Image, ImageDraw, ImageFont\n",
    "import os\n",
    "import tensorflow\n",
    "import os\n",
    "import random"
   ]
  },
  {
   "cell_type": "code",
   "execution_count": 20,
   "id": "c061bd11-65c3-400c-94eb-4071d7025a86",
   "metadata": {},
   "outputs": [],
   "source": [
    "# Helper Class to show easily Pictures\n",
    "def show_image(image):\n",
    "    plt.imshow(image, cmap='gray')\n",
    "    plt.axis('off')\n",
    "    plt.show()"
   ]
  },
  {
   "cell_type": "markdown",
   "id": "34271049-e4fc-4b73-9e37-00fadd3eac79",
   "metadata": {},
   "source": [
    "## Image Creation and Maniplulation"
   ]
  },
  {
   "cell_type": "code",
   "execution_count": 21,
   "id": "3d1910df-e6da-415d-97b4-9347cf6221fc",
   "metadata": {},
   "outputs": [],
   "source": [
    "def create_image_with_text(\n",
    "    text='A',\n",
    "    font_path=\"\", \n",
    "    width=40, \n",
    "    height=40, \n",
    "    thickness=1, \n",
    "):\n",
    "    image = np.ones((height, width), dtype=np.uint8) * 255 \n",
    "    font_size = 30  # Set Font Size\n",
    "    font = ImageFont.truetype(font_path, font_size)\n",
    "    \n",
    "    # Convert to PIL Format\n",
    "    pil_image = Image.fromarray(image)\n",
    "    draw = ImageDraw.Draw(pil_image)\n",
    "    \n",
    "    text_width = font.getlength(text)\n",
    "    text_height = font_size\n",
    "    \n",
    "    # Center Image\n",
    "    text_x = (width - text_width) // 2 \n",
    "    text_y = (height - text_height) // 2\n",
    "    \n",
    "    for i in range(-thickness, thickness + 1):\n",
    "        for j in range(-thickness, thickness + 1):\n",
    "            draw.text((text_x + i, text_y + j), text, font=font, fill=0)\n",
    "    \n",
    "    # Convert Image to OpenCV\n",
    "    image = np.array(pil_image)\n",
    "    return image"
   ]
  },
  {
   "cell_type": "code",
   "execution_count": 22,
   "id": "49416260",
   "metadata": {},
   "outputs": [],
   "source": [
    "def perspective_transformation(image, width, height, zoom_factor):\n",
    "    pts1 = np.float32([[0, 0], [width, 0], [0, height], [width, height]])\n",
    "    \n",
    "    zoomed_width = int(width * zoom_factor)\n",
    "    zoomed_height = int(height * zoom_factor)\n",
    "    \n",
    "    pts2 = np.float32([\n",
    "        [random.randint(-zoomed_width // 4, zoomed_width // 4), random.randint(-zoomed_height // 4, zoomed_height // 4)],\n",
    "        [zoomed_width - random.randint(-zoomed_width // 4, zoomed_width // 4), random.randint(-zoomed_height // 4, zoomed_height // 4)],\n",
    "        [random.randint(-zoomed_width // 4, zoomed_width // 4), zoomed_height - random.randint(-zoomed_height // 4, zoomed_height // 4)],\n",
    "        [zoomed_width - random.randint(-zoomed_width // 4, zoomed_width // 4), zoomed_height - random.randint(-zoomed_height // 4, zoomed_height // 4)]\n",
    "    ])\n",
    "    \n",
    "    M = cv2.getPerspectiveTransform(pts1, pts2)\n",
    "    image = cv2.warpPerspective(image, M, (zoomed_width, zoomed_height))\n",
    "    \n",
    "    return image\n"
   ]
  },
  {
   "cell_type": "code",
   "execution_count": 23,
   "id": "3c44f0d0-80fd-4ee5-ad62-cd88ffd7c0db",
   "metadata": {},
   "outputs": [],
   "source": [
    "def rotate_image(image, angle=30):\n",
    "    (h, w) = image.shape[:2]\n",
    "    center = (w // 2, h // 2)\n",
    "    rot = cv2.getRotationMatrix2D(center, angle, 1.0)\n",
    "    rotated = cv2.warpAffine(image,\n",
    "                             rot,\n",
    "                             (w, h),\n",
    "                             flags=cv2.INTER_LINEAR,\n",
    "                             borderMode=cv2.BORDER_CONSTANT,\n",
    "                             borderValue=255)\n",
    "    return rotated  "
   ]
  },
  {
   "cell_type": "code",
   "execution_count": 24,
   "id": "1088a46f-282d-43f6-9421-1008f9723427",
   "metadata": {},
   "outputs": [],
   "source": [
    "def gaussian_noise(image, mean=0, stddev=2):\n",
    "    gaussian_noise = np.random.normal(mean, stddev, image.shape).astype(np.uint8)\n",
    "    noisy_image = cv2.add(image, gaussian_noise)\n",
    "    return noisy_image"
   ]
  },
  {
   "cell_type": "code",
   "execution_count": 25,
   "id": "ff37266f-da2a-40c7-ba34-407a381af68e",
   "metadata": {},
   "outputs": [],
   "source": [
    "def add_blur(image, ksize=(3, 3)):\n",
    "    blurred_image = cv2.GaussianBlur(image, ksize, 0)\n",
    "    return blurred_image"
   ]
  },
  {
   "cell_type": "code",
   "execution_count": 29,
   "id": "85fc7272-3b8d-4abc-8641-787132c89258",
   "metadata": {},
   "outputs": [],
   "source": [
    "def get_font_list(path='Font'):\n",
    "    font_list = {}\n",
    "    for root, dirs, files in os.walk(path):\n",
    "        for file in files:\n",
    "            if file.lower().endswith('.ttf'):\n",
    "                full_path = os.path.join(root, file)\n",
    "                key = os.path.splitext(file)[0]\n",
    "                font_list[key] = full_path\n",
    "    return font_list    "
   ]
  },
  {
   "cell_type": "markdown",
   "id": "6649c199-e1a2-4451-9049-067f98b22a10",
   "metadata": {},
   "source": [
    "## Prepare Dataset"
   ]
  },
  {
   "cell_type": "code",
   "execution_count": 30,
   "id": "8ce3ecb6-1c2f-4e54-aa89-7b692cd0104e",
   "metadata": {},
   "outputs": [],
   "source": [
    "blur_limit = (1, 3)\n",
    "gaussian_limit = (0, 2)\n",
    "rotation_limit = (-10, 10)\n",
    "breite_limit = (0, 1)\n",
    "alphabet_list = [chr(i) for i in range(ord('a'), ord('z') + 1)]\n",
    "zoom_factor = [1]\n",
    "font_list = get_font_list()"
   ]
  },
  {
   "cell_type": "code",
   "execution_count": 31,
   "id": "7567dbff-a7fb-443b-9878-4fc84284c818",
   "metadata": {},
   "outputs": [],
   "source": [
    "index = 0\n",
    "for letter in alphabet_list:\n",
    "    for font in font_list.keys():\n",
    "        os.makedirs(f'Dataset/{font}/{letter}', exist_ok=True)\n",
    "        for breite in range(breite_limit[0], breite_limit[1]):\n",
    "            img = create_image_with_text(text=letter,font_path=font_list[font], thickness=breite)\n",
    "            for rotation in range(rotation_limit[0], rotation_limit[1], 1):\n",
    "                rot_img = rotate_image(img, angle=rotation)\n",
    "                for gaussian in range(gaussian_limit[0], gaussian_limit[1]):\n",
    "                    gaus_img = gaussian_noise(rot_img, stddev=gaussian)\n",
    "                    for blur_id in range(blur_limit[0], blur_limit[1], 2):\n",
    "                        blur_img = add_blur(gaus_img, (blur_id, blur_id))\n",
    "                        cv2.imwrite(f'Dataset/{font}/{letter}/{index}.png', blur_img)\n",
    "                        index +=1\n",
    "                        height, width = blur_img.shape[:2]\n",
    "                        persp_img = perspective_transformation(blur_img, width, height, 1)\n",
    "                        cv2.imwrite(f'Dataset/{font}/{letter}/{index}.png', persp_img)\n",
    "                        index +=1"
   ]
  },
  {
   "cell_type": "markdown",
   "id": "904e9eb3-89cf-4735-8185-85f64d312470",
   "metadata": {},
   "source": [
    "## Display Example Letters of 'a'"
   ]
  },
  {
   "cell_type": "code",
   "execution_count": 32,
   "id": "74c91e55-843c-4376-bfe4-62301ee48baf",
   "metadata": {},
   "outputs": [
    {
     "data": {
      "image/png": "[encoded data removed]",
      "text/plain": [
       "<Figure size 1080x432 with 10 Axes>"
      ]
     },
     "metadata": {
      "needs_background": "light"
     },
     "output_type": "display_data"
    }
   ],
   "source": [
    "def get_image_paths(letter):\n",
    "    image_paths = []\n",
    "    for font in os.listdir('Dataset'):\n",
    "        letter_dir = os.path.join('Dataset', font, letter)\n",
    "        if os.path.exists(letter_dir):\n",
    "            for img_file in os.listdir(letter_dir):\n",
    "                if img_file.endswith('.png'):\n",
    "                    image_paths.append(os.path.join(letter_dir, img_file))\n",
    "    return image_paths\n",
    "\n",
    "a_image_paths = get_image_paths('a')\n",
    "\n",
    "selected_images = random.sample(a_image_paths, min(10, len(a_image_paths)))\n",
    "\n",
    "fig, axes = plt.subplots(2, 5, figsize=(15, 6))\n",
    "\n",
    "for i, ax in enumerate(axes.flat):\n",
    "    if i < len(selected_images):\n",
    "        img = cv2.imread(selected_images[i], cv2.IMREAD_GRAYSCALE)\n",
    "        ax.imshow(img, cmap='gray')\n",
    "        ax.axis('off')\n",
    "        ax.set_title(f\"Font: {os.path.basename(os.path.dirname(os.path.dirname(selected_images[i])))}\")\n",
    "    else:\n",
    "        ax.remove()\n",
    "\n",
    "plt.tight_layout()\n",
    "plt.show()"
   ]
  },
  {
   "cell_type": "code",
   "execution_count": null,
   "id": "a7f72c56-2ba6-4093-97e2-bb7b616fc43f",
   "metadata": {},
   "outputs": [],
   "source": []
  }
 ],
 "metadata": {
  "kernelspec": {
   "display_name": "Python 3 (ipykernel)",
   "language": "python",
   "name": "python3"
  },
  "language_info": {
   "codemirror_mode": {
    "name": "ipython",
    "version": 3
   },
   "file_extension": ".py",
   "mimetype": "text/x-python",
   "name": "python",
   "nbconvert_exporter": "python",
   "pygments_lexer": "ipython3",
   "version": "3.9.13"
  }
 },
 "nbformat": 4,
 "nbformat_minor": 5
}
